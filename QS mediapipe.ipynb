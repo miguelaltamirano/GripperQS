{
 "cells": [
  {
   "cell_type": "code",
   "execution_count": 1,
   "id": "5e5b0fc2",
   "metadata": {},
   "outputs": [],
   "source": [
    "import serial\n",
    "import time\n",
    "import binascii\n",
    "import struct\n",
    "\n",
    "\n",
    "try:\n",
    "    s = serial.Serial('COM5', baudrate=115200, timeout=0.1)\n",
    "    \n",
    "except serial.SerialException:\n",
    "    s.close()\n",
    "    s = serial.Serial('COM3', baudrate=115200, timeout=0.1)\n",
    "    pass\n",
    "    print('eeeror')\n",
    "\n",
    "\n",
    "gripper_open =  1\n",
    "global is_open\n",
    "is_open = 1\n",
    "position_gripper = 100\n",
    "s.write(bytes(str(gripper_open) + \",\" + str(position_gripper)+ \"\\n\",'utf-8'))\n",
    "\n",
    "\n",
    "def open_gripper():\n",
    "    global is_open\n",
    "    open_gripper =  1\n",
    "    position_gripper = 100\n",
    "    if is_open==0:\n",
    "        s.write(bytes(str(open_gripper) + \",\" + str(position_gripper)+ \"\\n\",'utf-8'))\n",
    "        print(\"opening the gripper\")\n",
    "#     time.sleep(1)\n",
    "        s.flushInput()\n",
    "        is_open = True\n",
    "        time.sleep(1)\n",
    "def close_gripper():\n",
    "    global is_open\n",
    "    open_gripper =  2\n",
    "    position_gripper = 100\n",
    "    if is_open==1:\n",
    "        s.write(bytes(str(open_gripper) + \",\" + str(position_gripper)+ \"\\n\",'utf-8'))\n",
    "        time.sleep(1)\n",
    "        is_open = 0\n",
    "        print(\"closing the gripper\")\n",
    "    \n",
    "        s.flushInput()\n",
    "    \n",
    "    \n",
    "    "
   ]
  },
  {
   "cell_type": "code",
   "execution_count": 3,
   "id": "48537b9e",
   "metadata": {},
   "outputs": [
    {
     "name": "stdout",
     "output_type": "stream",
     "text": [
      "opening the gripper\n"
     ]
    }
   ],
   "source": [
    "open_gripper()\n"
   ]
  },
  {
   "cell_type": "code",
   "execution_count": 2,
   "id": "6ec4bb90",
   "metadata": {},
   "outputs": [
    {
     "name": "stdout",
     "output_type": "stream",
     "text": [
      "closing the gripper\n"
     ]
    }
   ],
   "source": [
    "close_gripper()"
   ]
  },
  {
   "cell_type": "code",
   "execution_count": null,
   "id": "6b968641",
   "metadata": {},
   "outputs": [],
   "source": [
    "gripper_open =  'hola'\n",
    "position_gripper = 100\n",
    "s.write(bytes(str(gripper_open) + \",\" + str(position_gripper)+ \"\\n\",'utf-8'))"
   ]
  },
  {
   "cell_type": "code",
   "execution_count": null,
   "id": "9a6edc04",
   "metadata": {},
   "outputs": [],
   "source": [
    "import mediapipe as mp\n",
    "import cv2\n",
    "import numpy as np\n",
    "from IPython.display import clear_output\n",
    "\n",
    "mp_drawing = mp.solutions.drawing_utils\n",
    "mp_hands = mp.solutions.hands\n",
    "\n",
    "cap = cv2.VideoCapture(0)\n",
    "cap.set(cv2.CAP_PROP_FRAME_WIDTH, 1920)\n",
    "cap.set(cv2.CAP_PROP_FRAME_HEIGHT, 1080)\n",
    "distance_open = 200\n",
    "\n",
    "with mp_hands.Hands(min_detection_confidence = 0.2, min_tracking_confidence=0.5) as hands:\n",
    "    while cap.isOpened():\n",
    "        clear_output(wait=True)\n",
    "        ret, image = cap.read()\n",
    "        image.flags.writeable = False\n",
    "        results = hands.process(image)\n",
    "        image.flags.writeable = True\n",
    "        \n",
    "\n",
    "        if results.multi_hand_landmarks:\n",
    "            \n",
    "            for num, hand in enumerate(results.multi_hand_landmarks):\n",
    "                mp_drawing.draw_landmarks(image, hand, mp_hands.HAND_CONNECTIONS,\n",
    "                                          # mp_drawing.DrawingSpec(color=(121,22,76), thickness=2, circle_radius=4),\n",
    "                                          # mp_drawing.DrawingSpec(color=(250,44,250), thickness=2, circle_radius=4),\n",
    "                                         )\n",
    "                \n",
    "                finger_point = np.array((hand.landmark[8].x *image.shape[1], hand.landmark[8].y*image.shape[0]))\n",
    "                thumb = np.array((hand.landmark[4].x *image.shape[1], hand.landmark[4].y*image.shape[0]))\n",
    "                distance_fingers = np.linalg.norm(finger_point - thumb)\n",
    "                print(\"finger_point: \", finger_point)\n",
    "                print(\"distance: \", distance_fingers)\n",
    "                \n",
    "                if distance_fingers <= distance_open:\n",
    "                    close_gripper()\n",
    "                else:\n",
    "                    open_gripper()\n",
    "                    \n",
    "                    \n",
    "                    \n",
    "                \n",
    "                                         \n",
    "        cv2.imshow(\"HT\", image)\n",
    "        if cv2.waitKey(10) & 0xFF == ord('q'):\n",
    "                break\n",
    "cap.release()\n",
    "cv2.destroyAllWindows()"
   ]
  },
  {
   "cell_type": "code",
   "execution_count": null,
   "id": "16cb7ef3",
   "metadata": {},
   "outputs": [],
   "source": []
  }
 ],
 "metadata": {
  "kernelspec": {
   "display_name": "Python 3 (ipykernel)",
   "language": "python",
   "name": "python3"
  },
  "language_info": {
   "codemirror_mode": {
    "name": "ipython",
    "version": 3
   },
   "file_extension": ".py",
   "mimetype": "text/x-python",
   "name": "python",
   "nbconvert_exporter": "python",
   "pygments_lexer": "ipython3",
   "version": "3.8.8"
  }
 },
 "nbformat": 4,
 "nbformat_minor": 5
}
